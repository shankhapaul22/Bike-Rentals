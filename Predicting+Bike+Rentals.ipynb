{
 "cells": [
  {
   "cell_type": "markdown",
   "metadata": {
    "collapsed": true
   },
   "source": [
    "## Introduction to the Data Set\n",
    "\n",
    "Many American cities have communal bike sharing stations where you can rent bicycles by the hour or day. Washington, D.C. is one of these cities. The District collects detailed data on the number of bicycles people rent by the hour and day.\n",
    "\n",
    "Hadi Fanaee-T at the University of Porto compiled this data into a CSV file, which we'll be working with. The file contains 17,380 rows, with each row representing the number of bike rentals for a single hour of a single day. You can download the data from the [University of California, Irvine's website](http://archive.ics.uci.edu/ml/datasets/Bike+Sharing+Dataset)."
   ]
  },
  {
   "cell_type": "code",
   "execution_count": 1,
   "metadata": {},
   "outputs": [],
   "source": [
    "import pandas as pd\n",
    "import numpy as np\n",
    "import matplotlib.pyplot as plt\n",
    "import seaborn as sns\n",
    "%matplotlib inline"
   ]
  },
  {
   "cell_type": "code",
   "execution_count": 2,
   "metadata": {},
   "outputs": [
    {
     "data": {
      "text/html": [
       "<div>\n",
       "<style scoped>\n",
       "    .dataframe tbody tr th:only-of-type {\n",
       "        vertical-align: middle;\n",
       "    }\n",
       "\n",
       "    .dataframe tbody tr th {\n",
       "        vertical-align: top;\n",
       "    }\n",
       "\n",
       "    .dataframe thead th {\n",
       "        text-align: right;\n",
       "    }\n",
       "</style>\n",
       "<table border=\"1\" class=\"dataframe\">\n",
       "  <thead>\n",
       "    <tr style=\"text-align: right;\">\n",
       "      <th></th>\n",
       "      <th>instant</th>\n",
       "      <th>dteday</th>\n",
       "      <th>season</th>\n",
       "      <th>yr</th>\n",
       "      <th>mnth</th>\n",
       "      <th>hr</th>\n",
       "      <th>holiday</th>\n",
       "      <th>weekday</th>\n",
       "      <th>workingday</th>\n",
       "      <th>weathersit</th>\n",
       "      <th>temp</th>\n",
       "      <th>atemp</th>\n",
       "      <th>hum</th>\n",
       "      <th>windspeed</th>\n",
       "      <th>casual</th>\n",
       "      <th>registered</th>\n",
       "      <th>cnt</th>\n",
       "    </tr>\n",
       "  </thead>\n",
       "  <tbody>\n",
       "    <tr>\n",
       "      <td>0</td>\n",
       "      <td>1</td>\n",
       "      <td>2011-01-01</td>\n",
       "      <td>1</td>\n",
       "      <td>0</td>\n",
       "      <td>1</td>\n",
       "      <td>0</td>\n",
       "      <td>0</td>\n",
       "      <td>6</td>\n",
       "      <td>0</td>\n",
       "      <td>1</td>\n",
       "      <td>0.24</td>\n",
       "      <td>0.2879</td>\n",
       "      <td>0.81</td>\n",
       "      <td>0.0</td>\n",
       "      <td>3</td>\n",
       "      <td>13</td>\n",
       "      <td>16</td>\n",
       "    </tr>\n",
       "    <tr>\n",
       "      <td>1</td>\n",
       "      <td>2</td>\n",
       "      <td>2011-01-01</td>\n",
       "      <td>1</td>\n",
       "      <td>0</td>\n",
       "      <td>1</td>\n",
       "      <td>1</td>\n",
       "      <td>0</td>\n",
       "      <td>6</td>\n",
       "      <td>0</td>\n",
       "      <td>1</td>\n",
       "      <td>0.22</td>\n",
       "      <td>0.2727</td>\n",
       "      <td>0.80</td>\n",
       "      <td>0.0</td>\n",
       "      <td>8</td>\n",
       "      <td>32</td>\n",
       "      <td>40</td>\n",
       "    </tr>\n",
       "    <tr>\n",
       "      <td>2</td>\n",
       "      <td>3</td>\n",
       "      <td>2011-01-01</td>\n",
       "      <td>1</td>\n",
       "      <td>0</td>\n",
       "      <td>1</td>\n",
       "      <td>2</td>\n",
       "      <td>0</td>\n",
       "      <td>6</td>\n",
       "      <td>0</td>\n",
       "      <td>1</td>\n",
       "      <td>0.22</td>\n",
       "      <td>0.2727</td>\n",
       "      <td>0.80</td>\n",
       "      <td>0.0</td>\n",
       "      <td>5</td>\n",
       "      <td>27</td>\n",
       "      <td>32</td>\n",
       "    </tr>\n",
       "    <tr>\n",
       "      <td>3</td>\n",
       "      <td>4</td>\n",
       "      <td>2011-01-01</td>\n",
       "      <td>1</td>\n",
       "      <td>0</td>\n",
       "      <td>1</td>\n",
       "      <td>3</td>\n",
       "      <td>0</td>\n",
       "      <td>6</td>\n",
       "      <td>0</td>\n",
       "      <td>1</td>\n",
       "      <td>0.24</td>\n",
       "      <td>0.2879</td>\n",
       "      <td>0.75</td>\n",
       "      <td>0.0</td>\n",
       "      <td>3</td>\n",
       "      <td>10</td>\n",
       "      <td>13</td>\n",
       "    </tr>\n",
       "    <tr>\n",
       "      <td>4</td>\n",
       "      <td>5</td>\n",
       "      <td>2011-01-01</td>\n",
       "      <td>1</td>\n",
       "      <td>0</td>\n",
       "      <td>1</td>\n",
       "      <td>4</td>\n",
       "      <td>0</td>\n",
       "      <td>6</td>\n",
       "      <td>0</td>\n",
       "      <td>1</td>\n",
       "      <td>0.24</td>\n",
       "      <td>0.2879</td>\n",
       "      <td>0.75</td>\n",
       "      <td>0.0</td>\n",
       "      <td>0</td>\n",
       "      <td>1</td>\n",
       "      <td>1</td>\n",
       "    </tr>\n",
       "  </tbody>\n",
       "</table>\n",
       "</div>"
      ],
      "text/plain": [
       "   instant      dteday  season  yr  mnth  hr  holiday  weekday  workingday  \\\n",
       "0        1  2011-01-01       1   0     1   0        0        6           0   \n",
       "1        2  2011-01-01       1   0     1   1        0        6           0   \n",
       "2        3  2011-01-01       1   0     1   2        0        6           0   \n",
       "3        4  2011-01-01       1   0     1   3        0        6           0   \n",
       "4        5  2011-01-01       1   0     1   4        0        6           0   \n",
       "\n",
       "   weathersit  temp   atemp   hum  windspeed  casual  registered  cnt  \n",
       "0           1  0.24  0.2879  0.81        0.0       3          13   16  \n",
       "1           1  0.22  0.2727  0.80        0.0       8          32   40  \n",
       "2           1  0.22  0.2727  0.80        0.0       5          27   32  \n",
       "3           1  0.24  0.2879  0.75        0.0       3          10   13  \n",
       "4           1  0.24  0.2879  0.75        0.0       0           1    1  "
      ]
     },
     "execution_count": 2,
     "metadata": {},
     "output_type": "execute_result"
    }
   ],
   "source": [
    "bike_rentals = pd.read_csv('bike_rental_hour.csv')\n",
    "bike_rentals.head()"
   ]
  },
  {
   "cell_type": "markdown",
   "metadata": {},
   "source": [
    "Here are the descriptions for the columns:\n",
    "\n",
    "- `instant` - A unique sequential ID number for each row\n",
    "- `dteday` - The date of the rentals\n",
    "- `season` - The season in which the rentals occurred (1 = spring, 2 = summer, 3 = fall, 4 = winter)\n",
    "- `yr` - The year the rentals occurred (0 = 2011, 1 = 2012)\n",
    "- `mnth` - The month the rentals occurred (as a label, 1 to 12)\n",
    "- `hr` - The hour the rentals occurred (as a label, 0 to 23)\n",
    "- `holiday` - Whether or not the day was a holiday (extracted from [here](https://dchr.dc.gov/page/holiday-schedules))\n",
    "- `weekday` - The day of the week (as a label, 0 to 6)\n",
    "- `workingday` - Whether or not the day was a working day\n",
    "- `weathersit` - The weather ( 1 = Clear, Few clouds, Partly cloudy, Partly cloudy, 2 = Mist + Cloudy, Mist + Broken clouds, Mist + Few clouds, Mist, 3 = Light Snow, Light Rain + Thunderstorm + Scattered clouds, Light Rain + Scattered clouds, 4 = Heavy Rain + Ice Pallets + Thunderstorm + Mist, Snow + Fog )\n",
    "- `temp` - The temperature, on a 0-1 scale\n",
    "- `atemp` - The adjusted 'feels like' temperature, on a 0-1 scale\n",
    "- `hum` - The humidity, on a 0-1 scale\n",
    "- `windspeed` - The wind speed, on a 0-1 scale\n",
    "- `casual` - The number of casual riders (people who hadn't previously signed up with the bike sharing program)\n",
    "- `registered` - The number of registered riders (people who had already signed up)\n",
    "- `cnt` - The total number of bike rentals (casual + registered)"
   ]
  },
  {
   "cell_type": "code",
   "execution_count": 3,
   "metadata": {},
   "outputs": [
    {
     "data": {
      "text/html": [
       "<div>\n",
       "<style scoped>\n",
       "    .dataframe tbody tr th:only-of-type {\n",
       "        vertical-align: middle;\n",
       "    }\n",
       "\n",
       "    .dataframe tbody tr th {\n",
       "        vertical-align: top;\n",
       "    }\n",
       "\n",
       "    .dataframe thead th {\n",
       "        text-align: right;\n",
       "    }\n",
       "</style>\n",
       "<table border=\"1\" class=\"dataframe\">\n",
       "  <thead>\n",
       "    <tr style=\"text-align: right;\">\n",
       "      <th></th>\n",
       "      <th>instant</th>\n",
       "      <th>date</th>\n",
       "      <th>season</th>\n",
       "      <th>yr</th>\n",
       "      <th>mnth</th>\n",
       "      <th>hr</th>\n",
       "      <th>holiday</th>\n",
       "      <th>weekday</th>\n",
       "      <th>workingday</th>\n",
       "      <th>weather</th>\n",
       "      <th>temp</th>\n",
       "      <th>atemp</th>\n",
       "      <th>hum</th>\n",
       "      <th>windspeed</th>\n",
       "      <th>casual</th>\n",
       "      <th>registered</th>\n",
       "      <th>cnt</th>\n",
       "    </tr>\n",
       "  </thead>\n",
       "  <tbody>\n",
       "    <tr>\n",
       "      <td>0</td>\n",
       "      <td>1</td>\n",
       "      <td>2011-01-01</td>\n",
       "      <td>1</td>\n",
       "      <td>0</td>\n",
       "      <td>1</td>\n",
       "      <td>0</td>\n",
       "      <td>0</td>\n",
       "      <td>6</td>\n",
       "      <td>0</td>\n",
       "      <td>1</td>\n",
       "      <td>0.24</td>\n",
       "      <td>0.2879</td>\n",
       "      <td>0.81</td>\n",
       "      <td>0.0</td>\n",
       "      <td>3</td>\n",
       "      <td>13</td>\n",
       "      <td>16</td>\n",
       "    </tr>\n",
       "    <tr>\n",
       "      <td>1</td>\n",
       "      <td>2</td>\n",
       "      <td>2011-01-01</td>\n",
       "      <td>1</td>\n",
       "      <td>0</td>\n",
       "      <td>1</td>\n",
       "      <td>1</td>\n",
       "      <td>0</td>\n",
       "      <td>6</td>\n",
       "      <td>0</td>\n",
       "      <td>1</td>\n",
       "      <td>0.22</td>\n",
       "      <td>0.2727</td>\n",
       "      <td>0.80</td>\n",
       "      <td>0.0</td>\n",
       "      <td>8</td>\n",
       "      <td>32</td>\n",
       "      <td>40</td>\n",
       "    </tr>\n",
       "    <tr>\n",
       "      <td>2</td>\n",
       "      <td>3</td>\n",
       "      <td>2011-01-01</td>\n",
       "      <td>1</td>\n",
       "      <td>0</td>\n",
       "      <td>1</td>\n",
       "      <td>2</td>\n",
       "      <td>0</td>\n",
       "      <td>6</td>\n",
       "      <td>0</td>\n",
       "      <td>1</td>\n",
       "      <td>0.22</td>\n",
       "      <td>0.2727</td>\n",
       "      <td>0.80</td>\n",
       "      <td>0.0</td>\n",
       "      <td>5</td>\n",
       "      <td>27</td>\n",
       "      <td>32</td>\n",
       "    </tr>\n",
       "    <tr>\n",
       "      <td>3</td>\n",
       "      <td>4</td>\n",
       "      <td>2011-01-01</td>\n",
       "      <td>1</td>\n",
       "      <td>0</td>\n",
       "      <td>1</td>\n",
       "      <td>3</td>\n",
       "      <td>0</td>\n",
       "      <td>6</td>\n",
       "      <td>0</td>\n",
       "      <td>1</td>\n",
       "      <td>0.24</td>\n",
       "      <td>0.2879</td>\n",
       "      <td>0.75</td>\n",
       "      <td>0.0</td>\n",
       "      <td>3</td>\n",
       "      <td>10</td>\n",
       "      <td>13</td>\n",
       "    </tr>\n",
       "    <tr>\n",
       "      <td>4</td>\n",
       "      <td>5</td>\n",
       "      <td>2011-01-01</td>\n",
       "      <td>1</td>\n",
       "      <td>0</td>\n",
       "      <td>1</td>\n",
       "      <td>4</td>\n",
       "      <td>0</td>\n",
       "      <td>6</td>\n",
       "      <td>0</td>\n",
       "      <td>1</td>\n",
       "      <td>0.24</td>\n",
       "      <td>0.2879</td>\n",
       "      <td>0.75</td>\n",
       "      <td>0.0</td>\n",
       "      <td>0</td>\n",
       "      <td>1</td>\n",
       "      <td>1</td>\n",
       "    </tr>\n",
       "  </tbody>\n",
       "</table>\n",
       "</div>"
      ],
      "text/plain": [
       "   instant        date  season  yr  mnth  hr  holiday  weekday  workingday  \\\n",
       "0        1  2011-01-01       1   0     1   0        0        6           0   \n",
       "1        2  2011-01-01       1   0     1   1        0        6           0   \n",
       "2        3  2011-01-01       1   0     1   2        0        6           0   \n",
       "3        4  2011-01-01       1   0     1   3        0        6           0   \n",
       "4        5  2011-01-01       1   0     1   4        0        6           0   \n",
       "\n",
       "   weather  temp   atemp   hum  windspeed  casual  registered  cnt  \n",
       "0        1  0.24  0.2879  0.81        0.0       3          13   16  \n",
       "1        1  0.22  0.2727  0.80        0.0       8          32   40  \n",
       "2        1  0.22  0.2727  0.80        0.0       5          27   32  \n",
       "3        1  0.24  0.2879  0.75        0.0       3          10   13  \n",
       "4        1  0.24  0.2879  0.75        0.0       0           1    1  "
      ]
     },
     "execution_count": 3,
     "metadata": {},
     "output_type": "execute_result"
    }
   ],
   "source": [
    "#Renaming columns for better understanding\n",
    "rename_dict = {'dteday' : 'date', \n",
    "               'weathersit': 'weather'}\n",
    "bike_rentals.rename(columns = rename_dict, inplace = True)\n",
    "bike_rentals.head()"
   ]
  },
  {
   "cell_type": "markdown",
   "metadata": {},
   "source": [
    "## Problem Statement\n",
    "\n",
    "With this dataset, we will create a model to predict the total number of bikes people rented in a given hour. We will predict the `cnt` column using all of the other columns (if possible), except for `casual` and `registered`. These columns leak information from the future and may not be availble with new data. We will drop the `yr` column as well, as new data will never have 2011 or 2012 as the year."
   ]
  },
  {
   "cell_type": "code",
   "execution_count": 4,
   "metadata": {},
   "outputs": [],
   "source": [
    "#dropping initial columns not needed for \n",
    "bike_rentals.drop(columns = ['casual', 'registered', 'yr'], inplace = True)"
   ]
  },
  {
   "cell_type": "markdown",
   "metadata": {},
   "source": [
    "## Exploratory Data Analysis\n",
    "\n",
    "Here we will explore the dataset through visualization and descriptive statistic tables. We will report any findings that may help or hinder the machine learning process."
   ]
  },
  {
   "cell_type": "code",
   "execution_count": 5,
   "metadata": {},
   "outputs": [
    {
     "name": "stdout",
     "output_type": "stream",
     "text": [
      "(17379, 14)\n",
      "--------------------\n",
      "<class 'pandas.core.frame.DataFrame'>\n",
      "RangeIndex: 17379 entries, 0 to 17378\n",
      "Data columns (total 14 columns):\n",
      "instant       17379 non-null int64\n",
      "date          17379 non-null object\n",
      "season        17379 non-null int64\n",
      "mnth          17379 non-null int64\n",
      "hr            17379 non-null int64\n",
      "holiday       17379 non-null int64\n",
      "weekday       17379 non-null int64\n",
      "workingday    17379 non-null int64\n",
      "weather       17379 non-null int64\n",
      "temp          17379 non-null float64\n",
      "atemp         17379 non-null float64\n",
      "hum           17379 non-null float64\n",
      "windspeed     17379 non-null float64\n",
      "cnt           17379 non-null int64\n",
      "dtypes: float64(4), int64(9), object(1)\n",
      "memory usage: 1.9+ MB\n"
     ]
    }
   ],
   "source": [
    "#observing column type and for null values\n",
    "print(bike_rentals.shape)\n",
    "print('-'*20)\n",
    "bike_rentals.info() "
   ]
  },
  {
   "cell_type": "markdown",
   "metadata": {},
   "source": [
    "**Findings**\n",
    "\n",
    "There are no null values and all columns are numeric, except the dates. If there were missing values, we would have had to:\n",
    "- impute the data with the mean or the mode of the column,\n",
    "- drop columns if majority of the column was missing since it would add no value to the machine learning process, or\n",
    "- drop rows if missing values are located randomly within the dataset and imputation is not possible."
   ]
  },
  {
   "cell_type": "code",
   "execution_count": 6,
   "metadata": {},
   "outputs": [
    {
     "data": {
      "text/html": [
       "<div>\n",
       "<style scoped>\n",
       "    .dataframe tbody tr th:only-of-type {\n",
       "        vertical-align: middle;\n",
       "    }\n",
       "\n",
       "    .dataframe tbody tr th {\n",
       "        vertical-align: top;\n",
       "    }\n",
       "\n",
       "    .dataframe thead th {\n",
       "        text-align: right;\n",
       "    }\n",
       "</style>\n",
       "<table border=\"1\" class=\"dataframe\">\n",
       "  <thead>\n",
       "    <tr style=\"text-align: right;\">\n",
       "      <th></th>\n",
       "      <th>count</th>\n",
       "      <th>mean</th>\n",
       "      <th>std</th>\n",
       "      <th>min</th>\n",
       "      <th>25%</th>\n",
       "      <th>50%</th>\n",
       "      <th>75%</th>\n",
       "      <th>max</th>\n",
       "    </tr>\n",
       "  </thead>\n",
       "  <tbody>\n",
       "    <tr>\n",
       "      <td>instant</td>\n",
       "      <td>17379.0</td>\n",
       "      <td>8690.000000</td>\n",
       "      <td>5017.029500</td>\n",
       "      <td>1.00</td>\n",
       "      <td>4345.5000</td>\n",
       "      <td>8690.0000</td>\n",
       "      <td>13034.5000</td>\n",
       "      <td>17379.0000</td>\n",
       "    </tr>\n",
       "    <tr>\n",
       "      <td>season</td>\n",
       "      <td>17379.0</td>\n",
       "      <td>2.501640</td>\n",
       "      <td>1.106918</td>\n",
       "      <td>1.00</td>\n",
       "      <td>2.0000</td>\n",
       "      <td>3.0000</td>\n",
       "      <td>3.0000</td>\n",
       "      <td>4.0000</td>\n",
       "    </tr>\n",
       "    <tr>\n",
       "      <td>mnth</td>\n",
       "      <td>17379.0</td>\n",
       "      <td>6.537775</td>\n",
       "      <td>3.438776</td>\n",
       "      <td>1.00</td>\n",
       "      <td>4.0000</td>\n",
       "      <td>7.0000</td>\n",
       "      <td>10.0000</td>\n",
       "      <td>12.0000</td>\n",
       "    </tr>\n",
       "    <tr>\n",
       "      <td>hr</td>\n",
       "      <td>17379.0</td>\n",
       "      <td>11.546752</td>\n",
       "      <td>6.914405</td>\n",
       "      <td>0.00</td>\n",
       "      <td>6.0000</td>\n",
       "      <td>12.0000</td>\n",
       "      <td>18.0000</td>\n",
       "      <td>23.0000</td>\n",
       "    </tr>\n",
       "    <tr>\n",
       "      <td>holiday</td>\n",
       "      <td>17379.0</td>\n",
       "      <td>0.028770</td>\n",
       "      <td>0.167165</td>\n",
       "      <td>0.00</td>\n",
       "      <td>0.0000</td>\n",
       "      <td>0.0000</td>\n",
       "      <td>0.0000</td>\n",
       "      <td>1.0000</td>\n",
       "    </tr>\n",
       "    <tr>\n",
       "      <td>weekday</td>\n",
       "      <td>17379.0</td>\n",
       "      <td>3.003683</td>\n",
       "      <td>2.005771</td>\n",
       "      <td>0.00</td>\n",
       "      <td>1.0000</td>\n",
       "      <td>3.0000</td>\n",
       "      <td>5.0000</td>\n",
       "      <td>6.0000</td>\n",
       "    </tr>\n",
       "    <tr>\n",
       "      <td>workingday</td>\n",
       "      <td>17379.0</td>\n",
       "      <td>0.682721</td>\n",
       "      <td>0.465431</td>\n",
       "      <td>0.00</td>\n",
       "      <td>0.0000</td>\n",
       "      <td>1.0000</td>\n",
       "      <td>1.0000</td>\n",
       "      <td>1.0000</td>\n",
       "    </tr>\n",
       "    <tr>\n",
       "      <td>weather</td>\n",
       "      <td>17379.0</td>\n",
       "      <td>1.425283</td>\n",
       "      <td>0.639357</td>\n",
       "      <td>1.00</td>\n",
       "      <td>1.0000</td>\n",
       "      <td>1.0000</td>\n",
       "      <td>2.0000</td>\n",
       "      <td>4.0000</td>\n",
       "    </tr>\n",
       "    <tr>\n",
       "      <td>temp</td>\n",
       "      <td>17379.0</td>\n",
       "      <td>0.496987</td>\n",
       "      <td>0.192556</td>\n",
       "      <td>0.02</td>\n",
       "      <td>0.3400</td>\n",
       "      <td>0.5000</td>\n",
       "      <td>0.6600</td>\n",
       "      <td>1.0000</td>\n",
       "    </tr>\n",
       "    <tr>\n",
       "      <td>atemp</td>\n",
       "      <td>17379.0</td>\n",
       "      <td>0.475775</td>\n",
       "      <td>0.171850</td>\n",
       "      <td>0.00</td>\n",
       "      <td>0.3333</td>\n",
       "      <td>0.4848</td>\n",
       "      <td>0.6212</td>\n",
       "      <td>1.0000</td>\n",
       "    </tr>\n",
       "    <tr>\n",
       "      <td>hum</td>\n",
       "      <td>17379.0</td>\n",
       "      <td>0.627229</td>\n",
       "      <td>0.192930</td>\n",
       "      <td>0.00</td>\n",
       "      <td>0.4800</td>\n",
       "      <td>0.6300</td>\n",
       "      <td>0.7800</td>\n",
       "      <td>1.0000</td>\n",
       "    </tr>\n",
       "    <tr>\n",
       "      <td>windspeed</td>\n",
       "      <td>17379.0</td>\n",
       "      <td>0.190098</td>\n",
       "      <td>0.122340</td>\n",
       "      <td>0.00</td>\n",
       "      <td>0.1045</td>\n",
       "      <td>0.1940</td>\n",
       "      <td>0.2537</td>\n",
       "      <td>0.8507</td>\n",
       "    </tr>\n",
       "    <tr>\n",
       "      <td>cnt</td>\n",
       "      <td>17379.0</td>\n",
       "      <td>189.463088</td>\n",
       "      <td>181.387599</td>\n",
       "      <td>1.00</td>\n",
       "      <td>40.0000</td>\n",
       "      <td>142.0000</td>\n",
       "      <td>281.0000</td>\n",
       "      <td>977.0000</td>\n",
       "    </tr>\n",
       "  </tbody>\n",
       "</table>\n",
       "</div>"
      ],
      "text/plain": [
       "              count         mean          std   min        25%        50%  \\\n",
       "instant     17379.0  8690.000000  5017.029500  1.00  4345.5000  8690.0000   \n",
       "season      17379.0     2.501640     1.106918  1.00     2.0000     3.0000   \n",
       "mnth        17379.0     6.537775     3.438776  1.00     4.0000     7.0000   \n",
       "hr          17379.0    11.546752     6.914405  0.00     6.0000    12.0000   \n",
       "holiday     17379.0     0.028770     0.167165  0.00     0.0000     0.0000   \n",
       "weekday     17379.0     3.003683     2.005771  0.00     1.0000     3.0000   \n",
       "workingday  17379.0     0.682721     0.465431  0.00     0.0000     1.0000   \n",
       "weather     17379.0     1.425283     0.639357  1.00     1.0000     1.0000   \n",
       "temp        17379.0     0.496987     0.192556  0.02     0.3400     0.5000   \n",
       "atemp       17379.0     0.475775     0.171850  0.00     0.3333     0.4848   \n",
       "hum         17379.0     0.627229     0.192930  0.00     0.4800     0.6300   \n",
       "windspeed   17379.0     0.190098     0.122340  0.00     0.1045     0.1940   \n",
       "cnt         17379.0   189.463088   181.387599  1.00    40.0000   142.0000   \n",
       "\n",
       "                   75%         max  \n",
       "instant     13034.5000  17379.0000  \n",
       "season          3.0000      4.0000  \n",
       "mnth           10.0000     12.0000  \n",
       "hr             18.0000     23.0000  \n",
       "holiday         0.0000      1.0000  \n",
       "weekday         5.0000      6.0000  \n",
       "workingday      1.0000      1.0000  \n",
       "weather         2.0000      4.0000  \n",
       "temp            0.6600      1.0000  \n",
       "atemp           0.6212      1.0000  \n",
       "hum             0.7800      1.0000  \n",
       "windspeed       0.2537      0.8507  \n",
       "cnt           281.0000    977.0000  "
      ]
     },
     "execution_count": 6,
     "metadata": {},
     "output_type": "execute_result"
    }
   ],
   "source": [
    "# Observing general descriptive statistics of each column \n",
    "bike_rentals.describe().transpose()"
   ]
  },
  {
   "cell_type": "markdown",
   "metadata": {},
   "source": [
    "The `season`, `month`, `hr`, `holiday`, `weekday`, `workingday`, & `weather` represent categorical values and should be treated as such. The `temp`, `atemp`, `windspead` and `hum` contain continuous data and need to be analyzed differently than the categorical columns."
   ]
  },
  {
   "cell_type": "code",
   "execution_count": 7,
   "metadata": {},
   "outputs": [
    {
     "name": "stdout",
     "output_type": "stream",
     "text": [
      "<class 'pandas.core.frame.DataFrame'>\n",
      "RangeIndex: 17379 entries, 0 to 17378\n",
      "Data columns (total 14 columns):\n",
      "instant       17379 non-null int64\n",
      "date          17379 non-null object\n",
      "season        17379 non-null category\n",
      "mnth          17379 non-null category\n",
      "hr            17379 non-null category\n",
      "holiday       17379 non-null category\n",
      "weekday       17379 non-null category\n",
      "workingday    17379 non-null category\n",
      "weather       17379 non-null category\n",
      "temp          17379 non-null float64\n",
      "atemp         17379 non-null float64\n",
      "hum           17379 non-null float64\n",
      "windspeed     17379 non-null float64\n",
      "cnt           17379 non-null int64\n",
      "dtypes: category(7), float64(4), int64(2), object(1)\n",
      "memory usage: 1.0+ MB\n"
     ]
    }
   ],
   "source": [
    "cat_cols = bike_rentals.select_dtypes(include = ['int64']).columns.drop(['instant', 'cnt'])\n",
    "\n",
    "for col in cat_cols:\n",
    "    bike_rentals[col] = bike_rentals[col].astype('category')\n",
    "    \n",
    "bike_rentals.info()"
   ]
  },
  {
   "cell_type": "code",
   "execution_count": 8,
   "metadata": {
    "scrolled": false
   },
   "outputs": [
    {
     "data": {
      "image/png": "[encoded data removed]",
      "text/plain": [
       "<Figure size 432x288 with 1 Axes>"
      ]
     },
     "metadata": {
      "needs_background": "light"
     },
     "output_type": "display_data"
    },
    {
     "data": {
      "image/png": "[encoded data removed]",
      "text/plain": [
       "<Figure size 432x288 with 1 Axes>"
      ]
     },
     "metadata": {
      "needs_background": "light"
     },
     "output_type": "display_data"
    },
    {
     "data": {
      "image/png": "[encoded data removed]",
      "text/plain": [
       "<Figure size 432x288 with 1 Axes>"
      ]
     },
     "metadata": {
      "needs_background": "light"
     },
     "output_type": "display_data"
    },
    {
     "data": {
      "image/png": "[encoded data removed]",
      "text/plain": [
       "<Figure size 432x288 with 1 Axes>"
      ]
     },
     "metadata": {
      "needs_background": "light"
     },
     "output_type": "display_data"
    },
    {
     "data": {
      "image/png": "[encoded data removed]",
      "text/plain": [
       "<Figure size 432x288 with 1 Axes>"
      ]
     },
     "metadata": {
      "needs_background": "light"
     },
     "output_type": "display_data"
    },
    {
     "data": {
      "image/png": "[encoded data removed]",
      "text/plain": [
       "<Figure size 432x288 with 1 Axes>"
      ]
     },
     "metadata": {
      "needs_background": "light"
     },
     "output_type": "display_data"
    },
    {
     "data": {
      "image/png": "[encoded data removed]",
      "text/plain": [
       "<Figure size 432x288 with 1 Axes>"
      ]
     },
     "metadata": {
      "needs_background": "light"
     },
     "output_type": "display_data"
    }
   ],
   "source": [
    "#observing categorical columns to find insights \n",
    "def plot_bar(col):\n",
    "    '''Function returns a bar plot of rentals in bike_rentals dataframe \n",
    "    by the unique values in the column.\n",
    "    \n",
    "    Args:\n",
    "        col - name of column\n",
    "        \n",
    "    Returns:\n",
    "        Bar plot utlizing matplotlib library\n",
    "    '''   \n",
    "    grouped  = bike_rentals.pivot_table(index = col, values = 'cnt', aggfunc = np.mean)\n",
    "    grouped.plot.bar(rot = 0, title = col)\n",
    "    plt.show()\n",
    "\n",
    "for col in cat_cols.tolist():\n",
    "    plot_bar(col)"
   ]
  },
  {
   "cell_type": "markdown",
   "metadata": {},
   "source": [
    "**Findings**\n",
    "\n",
    "It is interesting to note that in the `season` column plot, Fall(3) has the highest average of rentals and Winter(4) has a higher average in rentals than in Spring(1). It would be helpful to find out how the seasons were divided up within the year.\n",
    "\n",
    "The `mnth` column shows average rentals ascending every month from the beginning of the year until June. Then it plateaus until September before the average starts descending again. This data is congruent to heurestic observation as the months in the middle of the year tend to have better weather for outdoor activities in D.C. while the months at the beginning and end of the year have less than ideal weather.\n",
    "\n",
    "The `hr` column plot shows that  5:00 PM(hour 17) has the highest rentals followed by 6:00 PM(hour 18) and then 8:00 AM(hour 8). This is mostly likely due to bikers renting and riding after getting out of work or riding prior to starting the work day.\n",
    "\n",
    "According to the `holiday` column plot, the average rental is higher on a non-holiday vs on a holiday. This may be due to an imbalance in the values of the column as there are more non-holiday days than holidays in the year. \n",
    "\n",
    "There aren't any stand out values in the `weekday` column plot as the average rentals seem to be similar.\n",
    "\n",
    "Days labeled as a `workingday` have higher average rentals than non-workday, though not by much.\n",
    "\n",
    "The `weather` column show average rentals descending by the categorical values. This makes sense as weather category 1 signifies clear or partly cloudly skies which are ideal conditions for outdoor activities, whereas category 4 signifies heavy rain, thunderstorm, or fog which are not so ideal conditions for outdoor acitivies."
   ]
  },
  {
   "cell_type": "code",
   "execution_count": 9,
   "metadata": {},
   "outputs": [
    {
     "data": {
      "image/png": "[encoded data removed]",
      "text/plain": [
       "<Figure size 864x576 with 4 Axes>"
      ]
     },
     "metadata": {
      "needs_background": "light"
     },
     "output_type": "display_data"
    }
   ],
   "source": [
    "#Observing continuous data columns for insights\n",
    "cont_cols = bike_rentals.select_dtypes(include = ['float64']).columns\n",
    "\n",
    "def plot_dist(cols):\n",
    "    '''Plots distribution of given columns in bike_rental dataframe'''\n",
    "    n_rows = int(np.ceil(len(cols)/2))\n",
    "    n_cols = int(np.floor(len(cols)/ 2))\n",
    "    fig, axes = plt.subplots(n_rows, n_cols, figsize = (12,8))\n",
    "    axes = axes.flatten()\n",
    "    for col,ax in zip(cols, axes):\n",
    "        sns.distplot(bike_rentals[col], ax = ax)\n",
    "        ax.spines['right'].set_visible(False)\n",
    "        ax.spines['top'].set_visible(False)\n",
    "\n",
    "plot_dist(cont_cols.tolist())"
   ]
  },
  {
   "cell_type": "code",
   "execution_count": 10,
   "metadata": {},
   "outputs": [
    {
     "data": {
      "image/png": "[encoded data removed]",
      "text/plain": [
       "<Figure size 432x288 with 1 Axes>"
      ]
     },
     "metadata": {
      "needs_background": "light"
     },
     "output_type": "display_data"
    },
    {
     "data": {
      "image/png": "[encoded data removed]",
      "text/plain": [
       "<Figure size 432x288 with 1 Axes>"
      ]
     },
     "metadata": {
      "needs_background": "light"
     },
     "output_type": "display_data"
    },
    {
     "data": {
      "image/png": "[encoded data removed]",
      "text/plain": [
       "<Figure size 432x288 with 1 Axes>"
      ]
     },
     "metadata": {
      "needs_background": "light"
     },
     "output_type": "display_data"
    },
    {
     "data": {
      "image/png": "[encoded data removed]",
      "text/plain": [
       "<Figure size 432x288 with 1 Axes>"
      ]
     },
     "metadata": {
      "needs_background": "light"
     },
     "output_type": "display_data"
    }
   ],
   "source": [
    "def plot_scatter(col):\n",
    "    '''Plots scatter plot of given column against `cnt` column in the bike_rentals dataframe'''\n",
    "    plt.scatter(x = bike_rentals[col], y = bike_rentals['cnt'])\n",
    "    plt.title(col)\n",
    "    plt.show()\n",
    "    \n",
    "for col in cont_cols.tolist():\n",
    "    plot_scatter(col)"
   ]
  },
  {
   "cell_type": "code",
   "execution_count": 11,
   "metadata": {},
   "outputs": [
    {
     "name": "stdout",
     "output_type": "stream",
     "text": [
      "windspeed    0.093234\n",
      "hum          0.322911\n",
      "atemp        0.400929\n",
      "temp         0.404772\n",
      "cnt          1.000000\n",
      "Name: cnt, dtype: float64\n"
     ]
    },
    {
     "data": {
      "image/png": "[encoded data removed]",
      "text/plain": [
       "<Figure size 504x360 with 2 Axes>"
      ]
     },
     "metadata": {
      "needs_background": "light"
     },
     "output_type": "display_data"
    }
   ],
   "source": [
    "corr_cols = cont_cols.tolist()\n",
    "corr_cols.append('cnt')\n",
    "\n",
    "rental_corr = bike_rentals[corr_cols].corr()\n",
    "\n",
    "matrix = np.triu(rental_corr)\n",
    "f, ax = plt.subplots(figsize = (7,5))\n",
    "sns.heatmap(rental_corr, mask = matrix)\n",
    "print(rental_corr['cnt'].abs().sort_values(ascending = True)) #absolute correlation of rentals to continuous data columns"
   ]
  },
  {
   "cell_type": "markdown",
   "metadata": {},
   "source": [
    "**Findings**\n",
    "\n",
    "Distributions of `temp`, `atemp`, and `hum` follow approximately a normal distribution, while `windspeed` shows a right skewed distribution.\n",
    "\n",
    "According to the scatter plots, `temp` and `atemp` show simliar relations to `cnt`(rentals). Rentals tend to be low with high `windspeed` or with low `hum`(humidity). \n",
    "\n",
    "There doesn't seem to be any correlation among the continuous data columns except `temp` and `atemp`(which is to be expected).\n",
    "`temp` and `atemp` have the highest absolute correlation with `cnt` of around 0.4."
   ]
  },
  {
   "cell_type": "markdown",
   "metadata": {},
   "source": [
    "We will check the `cnt` distribution for any insights."
   ]
  },
  {
   "cell_type": "code",
   "execution_count": 12,
   "metadata": {},
   "outputs": [
    {
     "data": {
      "text/plain": [
       "<matplotlib.axes._subplots.AxesSubplot at 0x1c2bbfa7948>"
      ]
     },
     "execution_count": 12,
     "metadata": {},
     "output_type": "execute_result"
    },
    {
     "data": {
      "image/png": "[encoded data removed]",
      "text/plain": [
       "<Figure size 432x288 with 1 Axes>"
      ]
     },
     "metadata": {
      "needs_background": "light"
     },
     "output_type": "display_data"
    }
   ],
   "source": [
    "bike_rentals['cnt'].hist(bins = 10)"
   ]
  },
  {
   "cell_type": "markdown",
   "metadata": {},
   "source": [
    "The distribution of rentals follow a right skewed distribution.\n",
    "In any given hour, the number of rentals is mostly likely in between 0 - 100. "
   ]
  },
  {
   "cell_type": "markdown",
   "metadata": {},
   "source": [
    "### EDA Summary\n",
    "\n",
    "We have utilized visualization and compared our findings to domain knowledge to verify the data. If there were to be any unusual or corrupt data, we would have had to analyze further and remove the invalid data to our best ability."
   ]
  },
  {
   "cell_type": "markdown",
   "metadata": {},
   "source": [
    "---\n",
    "## Creating Features\n",
    "\n",
    "The `hr` column in bike_rentals contains the hours during which bikes are rented, from 0 to 23. Dummy coding this column will create excessive number of columns. Also, a machine will treat each hour differently, without understanding that certain hours are related. We will introduce some order into the process by creating a new column with labels for morning, afternoon, evening, and night."
   ]
  },
  {
   "cell_type": "code",
   "execution_count": 13,
   "metadata": {},
   "outputs": [
    {
     "name": "stdout",
     "output_type": "stream",
     "text": [
      "<class 'pandas.core.frame.DataFrame'>\n",
      "RangeIndex: 17379 entries, 0 to 17378\n",
      "Data columns (total 15 columns):\n",
      "instant       17379 non-null int64\n",
      "date          17379 non-null object\n",
      "season        17379 non-null category\n",
      "mnth          17379 non-null category\n",
      "hr            17379 non-null category\n",
      "holiday       17379 non-null category\n",
      "weekday       17379 non-null category\n",
      "workingday    17379 non-null category\n",
      "weather       17379 non-null category\n",
      "temp          17379 non-null float64\n",
      "atemp         17379 non-null float64\n",
      "hum           17379 non-null float64\n",
      "windspeed     17379 non-null float64\n",
      "cnt           17379 non-null int64\n",
      "time_label    17379 non-null category\n",
      "dtypes: category(8), float64(4), int64(2), object(1)\n",
      "memory usage: 1.1+ MB\n"
     ]
    }
   ],
   "source": [
    "def assign_label(hour):\n",
    "    '''Grouping hours by the time of day.\n",
    "    \n",
    "    1 = Morning(6 AM to 12 PM)\n",
    "    2 = Afternoon(12PM to 6 PM)\n",
    "    3 = Evening(6 PM to 12 AM)\n",
    "    4 = (12 AM to 6 AM)\n",
    "    \n",
    "    '''\n",
    "    if hour >= 0 and hour < 6:\n",
    "        return 4\n",
    "    elif hour >= 6 and hour < 12:\n",
    "        return 1\n",
    "    elif hour >= 12 and hour < 18:\n",
    "        return 2\n",
    "    elif hour >= 18 and hour <= 24:\n",
    "        return 3\n",
    "    \n",
    "bike_rentals['time_label'] = bike_rentals['hr'].apply(assign_label)\n",
    "bike_rentals['time_label'] = bike_rentals['time_label'].astype('category')\n",
    "bike_rentals.info()"
   ]
  },
  {
   "cell_type": "code",
   "execution_count": 14,
   "metadata": {},
   "outputs": [],
   "source": [
    "# cat_cols = bike_rentals.select_dtypes(include = ['category']).columns.tolist()\n",
    "# cat_cols.remove('workingday')\n",
    "# cat_cols.remove('holiday')\n",
    "\n",
    "# dummy = pd.DataFrame()\n",
    "\n",
    "# for col in cat_cols:\n",
    "#     dummy = pd.get_dummies(bike_rentals[col])\n",
    "#     bike_rentals = pd.concat([bike_rentals, dummy], axis = 1)\n",
    "#     bike_rentals.drop(columns = col, inplace = True)\n",
    "\n",
    "# print(bike_rentals.shape)\n",
    "# print('-'*20)\n",
    "# bike_rentals.head()"
   ]
  },
  {
   "cell_type": "markdown",
   "metadata": {},
   "source": [
    "**EDIT**\n",
    "\n",
    "We attempted to encode the categorical columns and create dummy columns with binary variables for the machine learning process. However, after model creation and analysis it was confirmed the new columns did not add value and rather increased the runtime. For this reason, we decided to comment out this task but would like to show that it was considered.\n",
    "\n",
    "---"
   ]
  },
  {
   "cell_type": "markdown",
   "metadata": {},
   "source": [
    "## Creating Train & Test Data sets\n",
    "\n",
    "We will be treating each observation in the dataset as independent of each other, instead of sequential as the `date` column suggests. For this reason we will be dropping the `date` column. We will be random sampling our dataset to create the train and test dataset.  \n",
    "\n",
    "### Error Metric\n",
    "\n",
    "Since we will be training different models we will be using MSE as our error metric for continuous numeric data to compare the models. MSE was chosen over MAE or RMSE as MSE displays the gap between the predicted and actual values more clearly(by squaring the difference). We may display the RMSE of our best model to observe how far off in rentals we can expect the model to perform since the RMSE value has the same unit as the target column."
   ]
  },
  {
   "cell_type": "code",
   "execution_count": 15,
   "metadata": {},
   "outputs": [],
   "source": [
    "train = bike_rentals.sample(frac = 0.8)\n",
    "test = bike_rentals.loc[~bike_rentals.index.isin(train.index)]"
   ]
  },
  {
   "cell_type": "code",
   "execution_count": 16,
   "metadata": {},
   "outputs": [],
   "source": [
    "def plot_err_diff(predictions):\n",
    "    '''Plots histograms of actual rentals vs predicted rentals for comparison.\n",
    "    Args:\n",
    "        predictions - predicted values from a given model\n",
    "    Returns:\n",
    "        2 histograms of actual and predicted values\n",
    "    '''\n",
    "    fig, ax = plt.subplots(1,2, figsize = (10,5))\n",
    "    ax[0].hist(bike_rentals['cnt'], bins = 10)\n",
    "    ax[0].set_title('Actual Rentals')\n",
    "\n",
    "    ax[1].hist(predictions, bins = 10)\n",
    "    ax[1].set_title('Predicted Rentals')\n",
    "    plt.show()"
   ]
  },
  {
   "cell_type": "markdown",
   "metadata": {},
   "source": [
    "## Linear Regression\n",
    "\n",
    "Linear Regression is chosen as a baseline model to see if the target and the features have a linear relationship."
   ]
  },
  {
   "cell_type": "code",
   "execution_count": 17,
   "metadata": {},
   "outputs": [],
   "source": [
    "from sklearn.linear_model import LinearRegression\n",
    "\n",
    "drop_cols = ['instant', 'date', 'cnt']\n",
    "linear_train = train.drop(columns = drop_cols)\n",
    "features = linear_train.columns.tolist()"
   ]
  },
  {
   "cell_type": "code",
   "execution_count": 18,
   "metadata": {},
   "outputs": [],
   "source": [
    "lr = LinearRegression()\n",
    "lr.fit(train[features], train['cnt'])\n",
    "predictions = lr.predict(test[features])"
   ]
  },
  {
   "cell_type": "code",
   "execution_count": 19,
   "metadata": {},
   "outputs": [
    {
     "name": "stdout",
     "output_type": "stream",
     "text": [
      "MSE: 18168.396817176013\n"
     ]
    }
   ],
   "source": [
    "from sklearn.metrics import mean_squared_error\n",
    "mse = mean_squared_error(test['cnt'], predictions)\n",
    "print('MSE:', mse)"
   ]
  },
  {
   "cell_type": "code",
   "execution_count": 20,
   "metadata": {},
   "outputs": [
    {
     "data": {
      "image/png": "[encoded data removed]",
      "text/plain": [
       "<Figure size 720x360 with 2 Axes>"
      ]
     },
     "metadata": {
      "needs_background": "light"
     },
     "output_type": "display_data"
    }
   ],
   "source": [
    "plot_err_diff(predictions)"
   ]
  },
  {
   "cell_type": "markdown",
   "metadata": {},
   "source": [
    "The error is very high. MSE always emphasizes significant errors as bigger. We will have to try different approaches to lower the MSE. The predicted values have an opposite distribution to the actual distribution and there are negative rentals predicted."
   ]
  },
  {
   "cell_type": "markdown",
   "metadata": {},
   "source": [
    "## Decision Trees\n",
    "\n",
    "Decision Tree Regression chosen to capture non-linearity."
   ]
  },
  {
   "cell_type": "code",
   "execution_count": 21,
   "metadata": {},
   "outputs": [
    {
     "data": {
      "text/plain": [
       "{1: 9008.06422612198,\n",
       " 2: 7872.224569668201,\n",
       " 5: 6575.56274138386,\n",
       " 10: 5882.613800342915,\n",
       " 20: 5914.381166162582}"
      ]
     },
     "execution_count": 21,
     "metadata": {},
     "output_type": "execute_result"
    }
   ],
   "source": [
    "from sklearn.tree import DecisionTreeRegressor\n",
    "\n",
    "n_leaves = [1, 2, 5, 10, 20]\n",
    "mses = []\n",
    "for n in n_leaves:\n",
    "    dtr = DecisionTreeRegressor(min_samples_leaf = n, random_state = 2)\n",
    "    dtr.fit(train[features], train['cnt'])\n",
    "    predictions = dtr.predict(test[features])\n",
    "    mse = mean_squared_error(test['cnt'], predictions)\n",
    "    mses.append(mse)\n",
    "\n",
    "mses_dict = {}\n",
    "for n, mse in zip(n_leaves, mses):\n",
    "    mses_dict[n] = mse\n",
    "\n",
    "mses_dict"
   ]
  },
  {
   "cell_type": "code",
   "execution_count": 22,
   "metadata": {},
   "outputs": [
    {
     "data": {
      "text/plain": [
       "<function matplotlib.pyplot.show(*args, **kw)>"
      ]
     },
     "execution_count": 22,
     "metadata": {},
     "output_type": "execute_result"
    },
    {
     "data": {
      "image/png": "[encoded data removed]",
      "text/plain": [
       "<Figure size 432x288 with 1 Axes>"
      ]
     },
     "metadata": {
      "needs_background": "light"
     },
     "output_type": "display_data"
    }
   ],
   "source": [
    "plt.plot(n_leaves, mses)\n",
    "plt.title('min_sampes_leaf vs MSE')\n",
    "plt.xlabel('min_samples (#)')\n",
    "plt.xticks(np.arange(0, 21, step=5))\n",
    "plt.ylabel('MSE')\n",
    "plt.show"
   ]
  },
  {
   "cell_type": "code",
   "execution_count": 23,
   "metadata": {},
   "outputs": [
    {
     "data": {
      "image/png": "[encoded data removed]",
      "text/plain": [
       "<Figure size 720x360 with 2 Axes>"
      ]
     },
     "metadata": {
      "needs_background": "light"
     },
     "output_type": "display_data"
    }
   ],
   "source": [
    "dtr = DecisionTreeRegressor(min_samples_leaf = 20, random_state = 2)\n",
    "dtr.fit(train[features], train['cnt'])\n",
    "dt_predictions = dtr.predict(test[features])\n",
    "plot_err_diff(dt_predictions)"
   ]
  },
  {
   "cell_type": "markdown",
   "metadata": {},
   "source": [
    "Decision Tree regressor show lower error than the Linear Regressor. This is because the descision tree regressor can account for non linearity in the data. The distribution of predicted and actual rentals both show right skewed distribution, which is a step towards the right direction.\n",
    "\n",
    "After experimenting with different inputs for the `min_samples_leaf` parameter, we seem to get the lowest MSE when `min_samples_leaf` = 10. As we increase `min_samples_leaf`, we decrease variance, however we also increase bias. "
   ]
  },
  {
   "cell_type": "markdown",
   "metadata": {},
   "source": [
    "## Random Forests\n",
    "\n",
    "The random forest algorithm is a powerful tool to reduce overfitting in decision trees.\n",
    "Random forest is an ensemble algorithm that combines the predictions of multiple decision trees to create a more accurate final prediction. However, it is very computationaly expensive.\n",
    "\n",
    "We will also use Grid Search for hyperparameter optimization. This method runs models for every combination of hyperparameters and finds the model with the combination with the lowest error. This is very computationally expensive and not always recommended."
   ]
  },
  {
   "cell_type": "code",
   "execution_count": 24,
   "metadata": {},
   "outputs": [
    {
     "data": {
      "text/plain": [
       "{'max_depth': None, 'min_samples_leaf': 10, 'n_estimators': 20}"
      ]
     },
     "execution_count": 24,
     "metadata": {},
     "output_type": "execute_result"
    }
   ],
   "source": [
    "from sklearn.ensemble import RandomForestRegressor\n",
    "from sklearn.model_selection import GridSearchCV\n",
    "\n",
    "hyperparameters = {'max_depth' : [None, 5, 10],\n",
    "                   'min_samples_leaf' : [1, 5, 10],\n",
    "                   'n_estimators' : [10, 20]\n",
    "                  }\n",
    "rf = RandomForestRegressor(random_state = 2)\n",
    "grid = GridSearchCV(rf, param_grid = hyperparameters, cv = 10)\n",
    "grid.fit(bike_rentals[features], bike_rentals['cnt'])\n",
    "\n",
    "grid.best_params_"
   ]
  },
  {
   "cell_type": "code",
   "execution_count": 25,
   "metadata": {},
   "outputs": [
    {
     "name": "stdout",
     "output_type": "stream",
     "text": [
      "Random Forest MSE: 5042.723185503625\n",
      "Random Forest RMSE: 71.01213407230925\n"
     ]
    },
    {
     "data": {
      "image/png": "[encoded data removed]",
      "text/plain": [
       "<Figure size 720x360 with 2 Axes>"
      ]
     },
     "metadata": {
      "needs_background": "light"
     },
     "output_type": "display_data"
    }
   ],
   "source": [
    "best_rf = grid.best_estimator_\n",
    "best_rf.fit(train[features], train['cnt'])\n",
    "rf_predictions = best_rf.predict(test[features])\n",
    "mse = mean_squared_error(test['cnt'], rf_predictions)\n",
    "rmse = mse**0.5\n",
    "\n",
    "print('Random Forest MSE:', mse)\n",
    "print('Random Forest RMSE:', rmse)\n",
    "plot_err_diff(rf_predictions)"
   ]
  },
  {
   "cell_type": "code",
   "execution_count": 26,
   "metadata": {},
   "outputs": [
    {
     "data": {
      "image/png": "[encoded data removed]",
      "text/plain": [
       "<Figure size 432x288 with 1 Axes>"
      ]
     },
     "metadata": {
      "needs_background": "light"
     },
     "output_type": "display_data"
    }
   ],
   "source": [
    "#observing the importance of all the features\n",
    "rf_features = pd.DataFrame({'Features': features, \n",
    "                                     'Importance': best_rf.feature_importances_}).sort_values('Importance',\n",
    "                                                                                            ascending = True)\n",
    "plt.barh(rf_features['Features'], rf_features['Importance'])\n",
    "plt.title('Random Forest Feature Importance')\n",
    "plt.show()"
   ]
  },
  {
   "cell_type": "markdown",
   "metadata": {},
   "source": [
    "The lowest MSE was achieved through Random Forest Regressor and model tuning. With 20 decision trees in the forest (`n_estimators = 20`) the accuracy has increased as overfitting is reduced. The `hr` column is the feature that allows the most information gain. The RMSE is 71.0 and considering the average for `cnt` (target column) is 189.5 and a standard deviation of 181.4, this is a promising model. However, there is still room for improvement. "
   ]
  },
  {
   "cell_type": "markdown",
   "metadata": {},
   "source": [
    "---\n",
    "## Conclusion\n",
    "\n",
    "We see an improvement of the error as we utilize Random Forest model with hyperparameter optimization. \n",
    "\n",
    "There is still room for implementing different methods to lower error:\n",
    "\n",
    "- creating additional features, such as combining humidity, temperature and wind speed.\n",
    "- utilizing XGBoosting which is another ensemble tree method that applies the principal of boosting.\n",
    "- applying Multiple correspondence analysis(MCA) with dummy columns and/or Principal Component Analysis(PCA) to reduce dimensionality.\n",
    "\n",
    "It would be interesting to predict the `casual` and `registered` rentals instead of `cnt` and see how they differ.\n",
    "We could also use the `date` and predict rentals in a sequential manner using LSTM rather than each hour as independent."
   ]
  }
 ],
 "metadata": {
  "kernelspec": {
   "display_name": "Python 3",
   "language": "python",
   "name": "python3"
  },
  "language_info": {
   "codemirror_mode": {
    "name": "ipython",
    "version": 3
   },
   "file_extension": ".py",
   "mimetype": "text/x-python",
   "name": "python",
   "nbconvert_exporter": "python",
   "pygments_lexer": "ipython3",
   "version": "3.7.4"
  }
 },
 "nbformat": 4,
 "nbformat_minor": 1
}
